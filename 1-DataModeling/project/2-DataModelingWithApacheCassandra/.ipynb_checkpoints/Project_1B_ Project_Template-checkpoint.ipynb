{
 "cells": [
  {
   "cell_type": "markdown",
   "metadata": {
    "editable": true
   },
   "source": [
    "# Part I. ETL Pipeline for Pre-Processing the Files"
   ]
  },
  {
   "cell_type": "markdown",
   "metadata": {
    "editable": true
   },
   "source": [
    "## PLEASE RUN THE FOLLOWING CODE FOR PRE-PROCESSING THE FILES"
   ]
  },
  {
   "cell_type": "markdown",
   "metadata": {
    "editable": true
   },
   "source": [
    "#### Import Python packages "
   ]
  },
  {
   "cell_type": "code",
   "execution_count": 1,
   "metadata": {
    "editable": true
   },
   "outputs": [],
   "source": [
    "# Import Python packages \n",
    "import pandas as pd\n",
    "import cassandra\n",
    "import re\n",
    "import os\n",
    "import glob\n",
    "import numpy as np\n",
    "import json\n",
    "import csv"
   ]
  },
  {
   "cell_type": "markdown",
   "metadata": {
    "editable": true
   },
   "source": [
    "#### Creating list of filepaths to process original event csv data files"
   ]
  },
  {
   "cell_type": "code",
   "execution_count": 2,
   "metadata": {
    "editable": true
   },
   "outputs": [],
   "source": [
    "# Get your current folder and subfolder event data\n",
    "filepath = os.getcwd() + '/event_data'\n",
    "\n",
    "# Create a for loop to create a list of files and collect each filepath\n",
    "for root, dirs, files in os.walk(filepath):\n",
    "    # join the file path and roots with the subdirectories using glob\n",
    "    filepath_list = glob.glob(os.path.join(root,'*'))"
   ]
  },
  {
   "cell_type": "markdown",
   "metadata": {
    "editable": true
   },
   "source": [
    "#### Processing the files to create the data file csv that will be used for Apache Casssandra tables"
   ]
  },
  {
   "cell_type": "code",
   "execution_count": 3,
   "metadata": {
    "editable": true
   },
   "outputs": [],
   "source": [
    "# initiating an empty list\n",
    "data = []\n",
    "\n",
    "# for every filepath in the file path list\n",
    "for f in filepath_list:\n",
    "    # reading csv file\n",
    "    with open(f, 'r', encoding = 'utf8', newline='') as csv_file:\n",
    "        csv_reader = csv.reader(csv_file)\n",
    "        next(csv_reader)    \n",
    "        for line in csv_reader:\n",
    "            data.append(line)\n",
    "\n",
    "# create file called data.csv that will be used to insert data into Apache Cassandra tables\n",
    "csv.register_dialect('myDialect', quoting=csv.QUOTE_ALL, skipinitialspace=True)\n",
    "with open('event_data_new.csv', 'w', encoding = 'utf8', newline='') as f:\n",
    "    writer = csv.writer(f, dialect='myDialect')\n",
    "    writer.writerow(['artist','firstName','gender','itemInSession','lastName','length','level','location','sessionId','song','userId'])\n",
    "    for row in data:\n",
    "        if (row[0] == ''):\n",
    "            continue\n",
    "        writer.writerow((row[0], row[2], row[3], row[4], row[5], row[6], row[7], row[8], row[12], row[13], row[16]))"
   ]
  },
  {
   "cell_type": "code",
   "execution_count": 4,
   "metadata": {
    "editable": true
   },
   "outputs": [
    {
     "name": "stdout",
     "output_type": "stream",
     "text": [
      "6821\n"
     ]
    }
   ],
   "source": [
    "# check the number of rows in your csv file\n",
    "with open('event_data_new.csv', 'r', encoding = 'utf8') as f:\n",
    "    print(sum(1 for line in f))"
   ]
  },
  {
   "cell_type": "markdown",
   "metadata": {
    "editable": true
   },
   "source": [
    "# Part II. Complete the Apache Cassandra coding portion of your project. \n",
    "\n",
    "## Now you are ready to work with the CSV file titled <font color=red>event_datafile_new.csv</font>, located within the Workspace directory.  The event_datafile_new.csv contains the following columns: \n",
    "- artist \n",
    "- firstName of user\n",
    "- gender of user\n",
    "- item number in session\n",
    "- last name of user\n",
    "- length of the song\n",
    "- level (paid or free song)\n",
    "- location of the user\n",
    "- sessionId\n",
    "- song title\n",
    "- userId\n",
    "\n",
    "The image below is a screenshot of what the denormalized data should appear like in the <font color=red>**event_datafile_new.csv**</font> after the code above is run:<br>\n",
    "\n",
    "<img src=\"images/image_event_datafile_new.jpg\">"
   ]
  },
  {
   "cell_type": "markdown",
   "metadata": {
    "editable": true
   },
   "source": [
    "#### Creating a Cluster"
   ]
  },
  {
   "cell_type": "code",
   "execution_count": 5,
   "metadata": {
    "editable": true
   },
   "outputs": [],
   "source": [
    "# This should make a connection to a Cassandra instance your local machine \n",
    "# (127.0.0.1)\n",
    "\n",
    "from cassandra.cluster import Cluster\n",
    "cluster = Cluster()\n",
    "\n",
    "# To establish connection and begin executing queries, need a session\n",
    "session = cluster.connect()"
   ]
  },
  {
   "cell_type": "markdown",
   "metadata": {
    "editable": true
   },
   "source": [
    "#### Create Keyspace"
   ]
  },
  {
   "cell_type": "code",
   "execution_count": 6,
   "metadata": {
    "editable": true
   },
   "outputs": [],
   "source": [
    "# TO-DO: Create a Keyspace\n",
    "try:\n",
    "    session.execute(\"\"\"\n",
    "    CREATE KEYSPACE IF NOT EXISTS sparkifydb\n",
    "    WITH REPLICATION=\n",
    "       { 'class' : 'SimpleStrategy', 'replication_factor' : 1 }\"\"\"\n",
    "    )\n",
    "except Exception as e:\n",
    "    print(e)"
   ]
  },
  {
   "cell_type": "markdown",
   "metadata": {
    "editable": true
   },
   "source": [
    "#### Set Keyspace"
   ]
  },
  {
   "cell_type": "code",
   "execution_count": 7,
   "metadata": {
    "editable": true
   },
   "outputs": [],
   "source": [
    "# TO-DO: Set KEYSPACE to the keyspace specified above\n",
    "try:\n",
    "    session.set_keyspace('sparkifydb')\n",
    "except Exception as e:\n",
    "    print(e)"
   ]
  },
  {
   "cell_type": "code",
   "execution_count": 8,
   "metadata": {
    "editable": true
   },
   "outputs": [],
   "source": [
    "def insert_data(session, file, query, indexes, dtypes):\n",
    "    '''\n",
    "    This function insert data into a table from CSV file\n",
    "    \n",
    "    INPUT:\n",
    "    * session, the Apache Cassandra session\n",
    "    * file, the csv file name\n",
    "    * query, the insert query statement \n",
    "    * indexes, the list of indices to pass to INSERT statement\n",
    "    * dtypes, the list of data types to convert indices values    \n",
    "    '''\n",
    "    assert(len(indexes) == len(dtypes))\n",
    "    with open(file, encoding = 'utf8') as f:\n",
    "        csv_reader = csv.reader(f)\n",
    "        next(csv_reader) # header\n",
    "        for line in csv_reader:\n",
    "            session.execute(query, tuple(dtype(line[x]) for x, dtype in zip(indexes, dtypes)))"
   ]
  },
  {
   "cell_type": "markdown",
   "metadata": {
    "editable": true
   },
   "source": [
    "# Three questions of the data"
   ]
  },
  {
   "cell_type": "markdown",
   "metadata": {
    "editable": true
   },
   "source": [
    "### 1. Give me the artist, song title and song's length in the music app history that was heard during  sessionId = 338, and itemInSession  = 4"
   ]
  },
  {
   "cell_type": "code",
   "execution_count": 9,
   "metadata": {
    "editable": true
   },
   "outputs": [],
   "source": [
    "# Definition of the table that will cover question 1\n",
    "query = \"\"\"\n",
    "        CREATE TABLE IF NOT EXISTS songplays_by_sessionid_iteminsession\n",
    "        (\n",
    "            sessionid int\n",
    "            ,iteminsession int\n",
    "            ,artist text\n",
    "            ,song text\n",
    "            ,length float\n",
    "            ,primary key(sessionid,iteminsession)\n",
    "        );\n",
    "        \"\"\"\n",
    "\n",
    "# Execution of the query (includes exception handler)\n",
    "try:\n",
    "    session.execute(query)\n",
    "except Exception as e:\n",
    "    print(e)"
   ]
  },
  {
   "cell_type": "code",
   "execution_count": 10,
   "metadata": {
    "editable": true
   },
   "outputs": [],
   "source": [
    "# Generated data file\n",
    "file = 'event_data_new.csv'\n",
    "\n",
    "# Column position and data type\n",
    "indexes = [8, 3, 0, 9, 5]\n",
    "dtypes = [int, int, str, str, float]\n",
    "\n",
    "# Query that inserts data from data file to generated table\n",
    "query = \"\"\"\n",
    "        INSERT INTO songplays_by_sessionid_iteminsession(sessionid, iteminsession, artist, song, length)\n",
    "        VALUES(%s, %s, %s, %s,%s)\n",
    "        \"\"\"\n",
    "\n",
    "# Use the data insert function\n",
    "# It contains the session in the database, file to handle, query to execute, position in the file and the type of data\n",
    "insert_data(session, file, query, indexes, dtypes)"
   ]
  },
  {
   "cell_type": "code",
   "execution_count": 11,
   "metadata": {
    "editable": true,
    "scrolled": true
   },
   "outputs": [
    {
     "data": {
      "text/html": [
       "<div>\n",
       "<style scoped>\n",
       "    .dataframe tbody tr th:only-of-type {\n",
       "        vertical-align: middle;\n",
       "    }\n",
       "\n",
       "    .dataframe tbody tr th {\n",
       "        vertical-align: top;\n",
       "    }\n",
       "\n",
       "    .dataframe thead th {\n",
       "        text-align: right;\n",
       "    }\n",
       "</style>\n",
       "<table border=\"1\" class=\"dataframe\">\n",
       "  <thead>\n",
       "    <tr style=\"text-align: right;\">\n",
       "      <th></th>\n",
       "      <th>artist</th>\n",
       "      <th>song</th>\n",
       "      <th>length</th>\n",
       "    </tr>\n",
       "  </thead>\n",
       "  <tbody>\n",
       "    <tr>\n",
       "      <th>0</th>\n",
       "      <td>Faithless</td>\n",
       "      <td>Music Matters (Mark Knight Dub)</td>\n",
       "      <td>495.307312</td>\n",
       "    </tr>\n",
       "  </tbody>\n",
       "</table>\n",
       "</div>"
      ],
      "text/plain": [
       "      artist                             song      length\n",
       "0  Faithless  Music Matters (Mark Knight Dub)  495.307312"
      ]
     },
     "execution_count": 11,
     "metadata": {},
     "output_type": "execute_result"
    }
   ],
   "source": [
    "# Query that returns the answer to the question\n",
    "query = \"\"\"\n",
    "        SELECT  artist,song,length\n",
    "        FROM    songplays_by_sessionid_iteminsession\n",
    "        WHERE   sessionId = 338\n",
    "                AND itemInSession = 4\n",
    "\"\"\"\n",
    "\n",
    "# Execution of the query (includes exception handler)\n",
    "try:\n",
    "    rows = session.execute(query)\n",
    "except Exception as e:\n",
    "    print(e)\n",
    "\n",
    "# Take the result of the query and convert it to a Pandas dataframe\n",
    "all_rows = [] \n",
    "for row in rows:\n",
    "    all_rows.append((row.artist, row.song,row.length))\n",
    "df = pd.DataFrame(all_rows, columns=['artist','song','length'])\n",
    "df.head()"
   ]
  },
  {
   "cell_type": "markdown",
   "metadata": {
    "editable": true
   },
   "source": [
    "### 2. Give me only the following: name of artist, song (sorted by itemInSession) and user (first and last name) for userid = 10, sessionid = 182"
   ]
  },
  {
   "cell_type": "code",
   "execution_count": 12,
   "metadata": {
    "editable": true
   },
   "outputs": [],
   "source": [
    "# Definition of the table that will cover question 2\n",
    "query = \"\"\"\n",
    "        CREATE TABLE IF NOT EXISTS songplays_by_userid_sessionid_iteminsession\n",
    "        (\n",
    "            userid int\n",
    "            ,sessionid int\n",
    "            ,iteminsession int\n",
    "            ,artist text\n",
    "            ,song text\n",
    "            ,firstname text\n",
    "            ,lastname text\n",
    "            ,primary key((userid,sessionid),iteminsession)\n",
    "        );\n",
    "        \"\"\"\n",
    "\n",
    "# Execution of the query (includes exception handler)\n",
    "try:\n",
    "    session.execute(query)\n",
    "except Exception as e:\n",
    "    print(e)"
   ]
  },
  {
   "cell_type": "code",
   "execution_count": 13,
   "metadata": {
    "editable": true
   },
   "outputs": [],
   "source": [
    "# Query that returns the answer to the question\n",
    "file = 'event_data_new.csv'\n",
    "\n",
    "# Column position and data type\n",
    "indexes = [10, 8, 3, 0, 9, 1, 4]\n",
    "dtypes = [int, int, int, str, str, str, str]\n",
    "\n",
    "# Query that inserts data from data file to generated table\n",
    "query = \"\"\"\n",
    "        INSERT INTO songplays_by_userid_sessionid_iteminsession(userid, sessionid, iteminsession, artist, song, firstname, lastname)\n",
    "        VALUES(%s, %s, %s, %s, %s, %s, %s)\n",
    "        \"\"\"\n",
    "\n",
    "# Use the data insert function\n",
    "# It contains the session in the database, file to handle, query to execute, position in the file and the type of data\n",
    "insert_data(session, file, query, indexes, dtypes)"
   ]
  },
  {
   "cell_type": "code",
   "execution_count": 14,
   "metadata": {
    "editable": true
   },
   "outputs": [
    {
     "data": {
      "text/html": [
       "<div>\n",
       "<style scoped>\n",
       "    .dataframe tbody tr th:only-of-type {\n",
       "        vertical-align: middle;\n",
       "    }\n",
       "\n",
       "    .dataframe tbody tr th {\n",
       "        vertical-align: top;\n",
       "    }\n",
       "\n",
       "    .dataframe thead th {\n",
       "        text-align: right;\n",
       "    }\n",
       "</style>\n",
       "<table border=\"1\" class=\"dataframe\">\n",
       "  <thead>\n",
       "    <tr style=\"text-align: right;\">\n",
       "      <th></th>\n",
       "      <th>artist</th>\n",
       "      <th>song</th>\n",
       "      <th>first_name</th>\n",
       "      <th>last_name</th>\n",
       "    </tr>\n",
       "  </thead>\n",
       "  <tbody>\n",
       "    <tr>\n",
       "      <th>0</th>\n",
       "      <td>Down To The Bone</td>\n",
       "      <td>Keep On Keepin' On</td>\n",
       "      <td>Sylvie</td>\n",
       "      <td>Cruz</td>\n",
       "    </tr>\n",
       "    <tr>\n",
       "      <th>1</th>\n",
       "      <td>Three Drives</td>\n",
       "      <td>Greece 2000</td>\n",
       "      <td>Sylvie</td>\n",
       "      <td>Cruz</td>\n",
       "    </tr>\n",
       "    <tr>\n",
       "      <th>2</th>\n",
       "      <td>Sebastien Tellier</td>\n",
       "      <td>Kilometer</td>\n",
       "      <td>Sylvie</td>\n",
       "      <td>Cruz</td>\n",
       "    </tr>\n",
       "    <tr>\n",
       "      <th>3</th>\n",
       "      <td>Lonnie Gordon</td>\n",
       "      <td>Catch You Baby (Steve Pitron &amp; Max Sanna Radio...</td>\n",
       "      <td>Sylvie</td>\n",
       "      <td>Cruz</td>\n",
       "    </tr>\n",
       "  </tbody>\n",
       "</table>\n",
       "</div>"
      ],
      "text/plain": [
       "              artist                                               song  \\\n",
       "0   Down To The Bone                                 Keep On Keepin' On   \n",
       "1       Three Drives                                        Greece 2000   \n",
       "2  Sebastien Tellier                                          Kilometer   \n",
       "3      Lonnie Gordon  Catch You Baby (Steve Pitron & Max Sanna Radio...   \n",
       "\n",
       "  first_name last_name  \n",
       "0     Sylvie      Cruz  \n",
       "1     Sylvie      Cruz  \n",
       "2     Sylvie      Cruz  \n",
       "3     Sylvie      Cruz  "
      ]
     },
     "execution_count": 14,
     "metadata": {},
     "output_type": "execute_result"
    }
   ],
   "source": [
    "# Query that returns the answer to the question\n",
    "query = \"\"\"\n",
    "        SELECT  artist, song, firstname, lastname\n",
    "        FROM    songplays_by_userid_sessionid_iteminsession\n",
    "        WHERE   userid = 10\n",
    "                AND sessionid = 182\n",
    "        \"\"\"\n",
    "\n",
    "# Execution of the query (includes exception handler)\n",
    "try:\n",
    "    rows = session.execute(query)\n",
    "except Exception as e:\n",
    "    print(e)\n",
    "\n",
    "# Take the result of the query and convert it to a Pandas dataframe\n",
    "all_rows = [] \n",
    "for row in rows:\n",
    "    all_rows.append((row.artist, row.song,row.firstname, row.lastname))\n",
    "df = pd.DataFrame(all_rows, columns=['artist','song','first_name','last_name'])\n",
    "df.head()"
   ]
  },
  {
   "cell_type": "markdown",
   "metadata": {
    "editable": true
   },
   "source": [
    "### 3. Give me every user name (first and last) in my music app history who listened to the song 'All Hands Against His Own'"
   ]
  },
  {
   "cell_type": "code",
   "execution_count": 15,
   "metadata": {
    "editable": true
   },
   "outputs": [],
   "source": [
    "# Definition of the table that will cover question 3\n",
    "query = \"\"\"\n",
    "        CREATE TABLE IF NOT EXISTS songplays_by_song_userid\n",
    "        (\n",
    "            song text\n",
    "            ,userid int\n",
    "            ,firstname text\n",
    "            ,lastname text\n",
    "            ,primary key((song),userid)\n",
    "        );\n",
    "        \"\"\"\n",
    "\n",
    "# Execution of the query (includes exception handler)\n",
    "try:\n",
    "    session.execute(query)\n",
    "except Exception as e:\n",
    "    print(e)"
   ]
  },
  {
   "cell_type": "code",
   "execution_count": 16,
   "metadata": {
    "editable": true
   },
   "outputs": [],
   "source": [
    "# Generated data file\n",
    "file = 'event_data_new.csv'\n",
    "\n",
    "# Column position and data type\n",
    "indexes = [9, 10, 1, 4]\n",
    "dtypes = [str, int, str, str]\n",
    "\n",
    "# Query that inserts data from data file to generated table\n",
    "query = \"\"\"\n",
    "        INSERT INTO songplays_by_song_userid(song, userid, firstname, lastname)\n",
    "        VALUES(%s, %s, %s, %s)\n",
    "        \"\"\"\n",
    "\n",
    "# Use the data insert function\n",
    "# It contains the session in the database, file to handle, query to execute, position in the file and the type of data\n",
    "insert_data(session, file, query, indexes, dtypes)"
   ]
  },
  {
   "cell_type": "code",
   "execution_count": 17,
   "metadata": {
    "editable": true
   },
   "outputs": [
    {
     "data": {
      "text/html": [
       "<div>\n",
       "<style scoped>\n",
       "    .dataframe tbody tr th:only-of-type {\n",
       "        vertical-align: middle;\n",
       "    }\n",
       "\n",
       "    .dataframe tbody tr th {\n",
       "        vertical-align: top;\n",
       "    }\n",
       "\n",
       "    .dataframe thead th {\n",
       "        text-align: right;\n",
       "    }\n",
       "</style>\n",
       "<table border=\"1\" class=\"dataframe\">\n",
       "  <thead>\n",
       "    <tr style=\"text-align: right;\">\n",
       "      <th></th>\n",
       "      <th>firstname</th>\n",
       "      <th>lastname</th>\n",
       "      <th>song</th>\n",
       "    </tr>\n",
       "  </thead>\n",
       "  <tbody>\n",
       "    <tr>\n",
       "      <th>0</th>\n",
       "      <td>Jacqueline</td>\n",
       "      <td>Lynch</td>\n",
       "      <td>All Hands Against His Own</td>\n",
       "    </tr>\n",
       "    <tr>\n",
       "      <th>1</th>\n",
       "      <td>Tegan</td>\n",
       "      <td>Levine</td>\n",
       "      <td>All Hands Against His Own</td>\n",
       "    </tr>\n",
       "    <tr>\n",
       "      <th>2</th>\n",
       "      <td>Sara</td>\n",
       "      <td>Johnson</td>\n",
       "      <td>All Hands Against His Own</td>\n",
       "    </tr>\n",
       "  </tbody>\n",
       "</table>\n",
       "</div>"
      ],
      "text/plain": [
       "    firstname lastname                       song\n",
       "0  Jacqueline    Lynch  All Hands Against His Own\n",
       "1       Tegan   Levine  All Hands Against His Own\n",
       "2        Sara  Johnson  All Hands Against His Own"
      ]
     },
     "execution_count": 17,
     "metadata": {},
     "output_type": "execute_result"
    }
   ],
   "source": [
    "# Query that returns the answer to the question\n",
    "query = \"\"\"\n",
    "        SELECT  firstname, lastname, song\n",
    "        FROM    songplays_by_song_userid\n",
    "        WHERE   song = 'All Hands Against His Own'\n",
    "        \"\"\"\n",
    "\n",
    "# Execution of the query (includes exception handler)\n",
    "try:\n",
    "    rows = session.execute(query)\n",
    "except Exception as e:\n",
    "    print(e)\n",
    "\n",
    "# Take the result of the query and convert it to a Pandas dataframe\n",
    "all_rows = []\n",
    "for row in rows:\n",
    "    all_rows.append((row.firstname, row.lastname, row.song))\n",
    "df = pd.DataFrame(all_rows, columns=['firstname', 'lastname', 'song'])\n",
    "df.head()"
   ]
  },
  {
   "cell_type": "markdown",
   "metadata": {
    "editable": true
   },
   "source": [
    "### Drop the tables before closing out the sessions"
   ]
  },
  {
   "cell_type": "code",
   "execution_count": 18,
   "metadata": {
    "editable": true
   },
   "outputs": [],
   "source": [
    "def drop_tables(tables):\n",
    "    for table in tables:\n",
    "        query = \"DROP TABLE \"+table\n",
    "        try:\n",
    "            session.execute(query)\n",
    "        except Exception as e:\n",
    "            print(e)"
   ]
  },
  {
   "cell_type": "code",
   "execution_count": 19,
   "metadata": {
    "editable": true
   },
   "outputs": [],
   "source": [
    "table_names = ['songplays_by_sessionid_iteminsession', 'songplays_by_userid_sessionid_iteminsession', 'songplays_by_song_userid']\n",
    "drop_tables(table_names)"
   ]
  },
  {
   "cell_type": "markdown",
   "metadata": {
    "editable": true
   },
   "source": [
    "### Close the session and cluster connection¶"
   ]
  },
  {
   "cell_type": "code",
   "execution_count": 20,
   "metadata": {
    "editable": true
   },
   "outputs": [],
   "source": [
    "session.shutdown()\n",
    "cluster.shutdown()"
   ]
  }
 ],
 "metadata": {
  "kernelspec": {
   "display_name": "Python 3",
   "language": "python",
   "name": "python3"
  },
  "language_info": {
   "codemirror_mode": {
    "name": "ipython",
    "version": 3
   },
   "file_extension": ".py",
   "mimetype": "text/x-python",
   "name": "python",
   "nbconvert_exporter": "python",
   "pygments_lexer": "ipython3",
   "version": "3.6.3"
  }
 },
 "nbformat": 4,
 "nbformat_minor": 4
}
